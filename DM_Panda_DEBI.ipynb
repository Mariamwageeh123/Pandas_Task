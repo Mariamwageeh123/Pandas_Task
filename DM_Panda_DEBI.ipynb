{
 "cells": [
  {
   "cell_type": "code",
   "execution_count": 12,
   "id": "6b990e56-945e-4a18-a5e6-032596374d60",
   "metadata": {},
   "outputs": [
    {
     "name": "stdout",
     "output_type": "stream",
     "text": [
      "     #                       Team Members       ID  Grade\n",
      "0    1            Abdalrahman Osama Ahmed  2430126   20.0\n",
      "1    1            Mohamed Mosatafa Salman  2430100   20.0\n",
      "2    1             Ramy Ashraf Abdelmaseh  2430178   21.0\n",
      "3    1             Youssef Mohamed Ismail  2430193   20.5\n",
      "4    2       Ahmed Mohamed Ahmed Abdelaal  4210486   19.0\n",
      "5    2  Mohamed Ahmed Mohamed Abdelmoniem  4212510   20.0\n",
      "6    2               Marwan Mohamed Abbas  4212512   20.0\n",
      "7    2   Ahmed Hany Abdelwahab Abdelgawad  4210017   21.0\n",
      "8    3        Abdelrahman Ibrahim Mohamed  2430493   25.0\n",
      "9    3            Ahmed Emad Mohamed Reda  2430180   25.0\n",
      "10   3               Amr Ahmed Abdelzaher  2430074   24.0\n",
      "11   3            Amr Yasser Salah El-Din  2430380   25.0\n",
      "12   4                     Bahga Mohammed  2430498   15.0\n",
      "13   4                 Anas Samy Alsirafy  2430358   15.0\n",
      "14   4  Mohammed Abd El Twab Abd El Fatah  4210215   15.0\n",
      "15   4                  Nada Hesham Anwer  2430185   15.0\n",
      "16   5                Yomna Osama Hussein  2430203   26.0\n",
      "17   5           Mostafa Osama Abdelzaher  2430173   26.0\n",
      "18   5            Omar Mohamed Ahmed Amin  2430204   26.0\n",
      "19   5    Youssef Mohamed Mahmoud Shaaban  2430202   26.0\n",
      "20   6                      Habiba Hassan  2430369   22.0\n",
      "21   6                      Mahinour Alaa  2430339   21.0\n",
      "22   6                     Rofayda Bassem  2430220   22.0\n",
      "23   6                     Youssef Khaled  2430324   22.0\n",
      "24   6                  Omar Sherif Galal  2430039   22.0\n",
      "25   7                 Ahmed Youssef Amer  4210394   21.0\n",
      "26   7            Ahmed Alaaeldin Ibrahim  4210016   21.0\n",
      "27   7                     omar Saeed Ali  4210038   21.0\n",
      "28   7               bassant reda mohamed  2430056   21.0\n",
      "29   8                           Hla Hany  2430344   17.0\n",
      "30   8                          Omar Alaa  2430377   16.0\n",
      "31   8                       Omar Nashaat  2430430   17.0\n",
      "32   8                         Rana Gamal  2430449   15.0\n",
      "33   9                        Ahmed Maher  2430290   21.0\n",
      "34   9                     Khalid Mamdouh  2430321   21.0\n",
      "35   9               Marwan Ahmed Mustafa  2430281   22.0\n",
      "36   9                   Seif El-Baghdady  2430243   22.0\n",
      "37  10                   Daniel Adel Aziz  4210024   19.0\n",
      "38  10                  David George Adel  4210849   15.0\n",
      "39  10                 Nardeen Hany Milad  4210483   19.0\n",
      "40  10                Peter Ashraf Moussa  4212501   19.0\n"
     ]
    }
   ],
   "source": [
    "import pandas as pd\n",
    "\n",
    "# reading csv file \n",
    "df = pd.read_csv(r\"D:/DEBI/stdents_grades.csv\")\n",
    "print(df)"
   ]
  },
  {
   "cell_type": "code",
   "execution_count": 26,
   "id": "cfe9b0eb-0981-4649-9150-3b6415da8442",
   "metadata": {},
   "outputs": [
    {
     "data": {
      "text/html": [
       "<div>\n",
       "<style scoped>\n",
       "    .dataframe tbody tr th:only-of-type {\n",
       "        vertical-align: middle;\n",
       "    }\n",
       "\n",
       "    .dataframe tbody tr th {\n",
       "        vertical-align: top;\n",
       "    }\n",
       "\n",
       "    .dataframe thead th {\n",
       "        text-align: right;\n",
       "    }\n",
       "</style>\n",
       "<table border=\"1\" class=\"dataframe\">\n",
       "  <thead>\n",
       "    <tr style=\"text-align: right;\">\n",
       "      <th></th>\n",
       "      <th>#</th>\n",
       "      <th>Team Members</th>\n",
       "      <th>ID</th>\n",
       "      <th>Grade</th>\n",
       "    </tr>\n",
       "  </thead>\n",
       "  <tbody>\n",
       "    <tr>\n",
       "      <th>0</th>\n",
       "      <td>1</td>\n",
       "      <td>Abdalrahman Osama Ahmed</td>\n",
       "      <td>2430126</td>\n",
       "      <td>20.0</td>\n",
       "    </tr>\n",
       "    <tr>\n",
       "      <th>1</th>\n",
       "      <td>1</td>\n",
       "      <td>Mohamed Mosatafa Salman</td>\n",
       "      <td>2430100</td>\n",
       "      <td>20.0</td>\n",
       "    </tr>\n",
       "    <tr>\n",
       "      <th>2</th>\n",
       "      <td>1</td>\n",
       "      <td>Ramy Ashraf Abdelmaseh</td>\n",
       "      <td>2430178</td>\n",
       "      <td>21.0</td>\n",
       "    </tr>\n",
       "    <tr>\n",
       "      <th>3</th>\n",
       "      <td>1</td>\n",
       "      <td>Youssef Mohamed Ismail</td>\n",
       "      <td>2430193</td>\n",
       "      <td>20.5</td>\n",
       "    </tr>\n",
       "  </tbody>\n",
       "</table>\n",
       "</div>"
      ],
      "text/plain": [
       "   #             Team Members       ID  Grade\n",
       "0  1  Abdalrahman Osama Ahmed  2430126   20.0\n",
       "1  1  Mohamed Mosatafa Salman  2430100   20.0\n",
       "2  1   Ramy Ashraf Abdelmaseh  2430178   21.0\n",
       "3  1   Youssef Mohamed Ismail  2430193   20.5"
      ]
     },
     "metadata": {},
     "output_type": "display_data"
    }
   ],
   "source": [
    "\n",
    "data = pd.DataFrame(df)\n",
    "\n",
    "# Filter rows where Age is greater than 30\n",
    "team1_df = data[data['#'] ==1]\n",
    "\n",
    "display(team1_df)"
   ]
  },
  {
   "cell_type": "code",
   "execution_count": 27,
   "id": "efa42297-198d-49b4-9e3f-d8420f38f314",
   "metadata": {},
   "outputs": [
    {
     "name": "stdout",
     "output_type": "stream",
     "text": [
      "20.375\n"
     ]
    }
   ],
   "source": [
    "average = team1_df[\"Grade\"].mean()\n",
    "print(average)"
   ]
  },
  {
   "cell_type": "code",
   "execution_count": 60,
   "id": "1afb7d9d-615d-48e0-9f65-1c1ef4888e43",
   "metadata": {},
   "outputs": [
    {
     "name": "stdout",
     "output_type": "stream",
     "text": [
      "Grade                             21.0\n",
      "Team Members    Youssef Mohamed Ismail\n",
      "ID                             2430193\n",
      "dtype: object\n"
     ]
    }
   ],
   "source": [
    "max1 = team1_df[[\"Grade\",\"Team Members\",\"ID\"]].max()\n",
    "print(max1)"
   ]
  },
  {
   "cell_type": "code",
   "execution_count": 58,
   "id": "4eb106a7-379f-4a48-ba76-57d0ec694288",
   "metadata": {},
   "outputs": [
    {
     "name": "stdout",
     "output_type": "stream",
     "text": [
      "   #             Team Members       ID  Grade\n",
      "0  1  Abdalrahman Osama Ahmed  2430126   20.0\n",
      "1  1  Mohamed Mosatafa Salman  2430100   20.0\n",
      "3  1   Youssef Mohamed Ismail  2430193   20.5\n",
      "2  1   Ramy Ashraf Abdelmaseh  2430178   21.0\n"
     ]
    }
   ],
   "source": [
    "sorted_team1 = team1_df.sort_values(by='Grade')\n",
    "print(sorted_team1)"
   ]
  },
  {
   "cell_type": "code",
   "execution_count": 15,
   "id": "4f73f950-3788-43d4-a263-83defa97ad67",
   "metadata": {},
   "outputs": [
    {
     "data": {
      "text/html": [
       "<div>\n",
       "<style scoped>\n",
       "    .dataframe tbody tr th:only-of-type {\n",
       "        vertical-align: middle;\n",
       "    }\n",
       "\n",
       "    .dataframe tbody tr th {\n",
       "        vertical-align: top;\n",
       "    }\n",
       "\n",
       "    .dataframe thead th {\n",
       "        text-align: right;\n",
       "    }\n",
       "</style>\n",
       "<table border=\"1\" class=\"dataframe\">\n",
       "  <thead>\n",
       "    <tr style=\"text-align: right;\">\n",
       "      <th></th>\n",
       "      <th>#</th>\n",
       "      <th>Team Members</th>\n",
       "      <th>ID</th>\n",
       "      <th>Grade</th>\n",
       "    </tr>\n",
       "  </thead>\n",
       "  <tbody>\n",
       "    <tr>\n",
       "      <th>4</th>\n",
       "      <td>2</td>\n",
       "      <td>Ahmed Mohamed Ahmed Abdelaal</td>\n",
       "      <td>4210486</td>\n",
       "      <td>19.0</td>\n",
       "    </tr>\n",
       "    <tr>\n",
       "      <th>5</th>\n",
       "      <td>2</td>\n",
       "      <td>Mohamed Ahmed Mohamed Abdelmoniem</td>\n",
       "      <td>4212510</td>\n",
       "      <td>20.0</td>\n",
       "    </tr>\n",
       "    <tr>\n",
       "      <th>6</th>\n",
       "      <td>2</td>\n",
       "      <td>Marwan Mohamed Abbas</td>\n",
       "      <td>4212512</td>\n",
       "      <td>20.0</td>\n",
       "    </tr>\n",
       "    <tr>\n",
       "      <th>7</th>\n",
       "      <td>2</td>\n",
       "      <td>Ahmed Hany Abdelwahab Abdelgawad</td>\n",
       "      <td>4210017</td>\n",
       "      <td>21.0</td>\n",
       "    </tr>\n",
       "  </tbody>\n",
       "</table>\n",
       "</div>"
      ],
      "text/plain": [
       "   #                       Team Members       ID  Grade\n",
       "4  2       Ahmed Mohamed Ahmed Abdelaal  4210486   19.0\n",
       "5  2  Mohamed Ahmed Mohamed Abdelmoniem  4212510   20.0\n",
       "6  2               Marwan Mohamed Abbas  4212512   20.0\n",
       "7  2   Ahmed Hany Abdelwahab Abdelgawad  4210017   21.0"
      ]
     },
     "metadata": {},
     "output_type": "display_data"
    }
   ],
   "source": [
    "data = pd.DataFrame(df)\n",
    "\n",
    "# Filter rows where Age is greater than 30\n",
    "team2_df = data[data['#'] ==2]\n",
    "display(team2_df)"
   ]
  },
  {
   "cell_type": "code",
   "execution_count": 28,
   "id": "f63a25a9-6d0a-40da-9b36-e58f936b67dc",
   "metadata": {},
   "outputs": [
    {
     "name": "stdout",
     "output_type": "stream",
     "text": [
      "20.0\n"
     ]
    }
   ],
   "source": [
    "average2 = team2_df[\"Grade\"].mean()\n",
    "print(average2)"
   ]
  },
  {
   "cell_type": "code",
   "execution_count": 61,
   "id": "93a70612-d556-4f24-8b5f-20e68c1cac5b",
   "metadata": {},
   "outputs": [
    {
     "name": "stdout",
     "output_type": "stream",
     "text": [
      "Grade                                        21.0\n",
      "Team Members    Mohamed Ahmed Mohamed Abdelmoniem\n",
      "ID                                        4212512\n",
      "dtype: object\n"
     ]
    }
   ],
   "source": [
    "max2 = team2_df[[\"Grade\",\"Team Members\",\"ID\"]].max()\n",
    "print(max2)"
   ]
  },
  {
   "cell_type": "code",
   "execution_count": 57,
   "id": "fedab781-9523-44f1-9406-c09dedb09afe",
   "metadata": {},
   "outputs": [
    {
     "name": "stdout",
     "output_type": "stream",
     "text": [
      "   #                       Team Members       ID  Grade\n",
      "4  2       Ahmed Mohamed Ahmed Abdelaal  4210486   19.0\n",
      "5  2  Mohamed Ahmed Mohamed Abdelmoniem  4212510   20.0\n",
      "6  2               Marwan Mohamed Abbas  4212512   20.0\n",
      "7  2   Ahmed Hany Abdelwahab Abdelgawad  4210017   21.0\n"
     ]
    }
   ],
   "source": [
    "sorted_team2 = team2_df.sort_values(by='Grade')\n",
    "print(sorted_team2)"
   ]
  },
  {
   "cell_type": "code",
   "execution_count": 16,
   "id": "dd012361-ed11-424f-ab19-c8f6612d9e95",
   "metadata": {},
   "outputs": [
    {
     "data": {
      "text/html": [
       "<div>\n",
       "<style scoped>\n",
       "    .dataframe tbody tr th:only-of-type {\n",
       "        vertical-align: middle;\n",
       "    }\n",
       "\n",
       "    .dataframe tbody tr th {\n",
       "        vertical-align: top;\n",
       "    }\n",
       "\n",
       "    .dataframe thead th {\n",
       "        text-align: right;\n",
       "    }\n",
       "</style>\n",
       "<table border=\"1\" class=\"dataframe\">\n",
       "  <thead>\n",
       "    <tr style=\"text-align: right;\">\n",
       "      <th></th>\n",
       "      <th>#</th>\n",
       "      <th>Team Members</th>\n",
       "      <th>ID</th>\n",
       "      <th>Grade</th>\n",
       "    </tr>\n",
       "  </thead>\n",
       "  <tbody>\n",
       "    <tr>\n",
       "      <th>8</th>\n",
       "      <td>3</td>\n",
       "      <td>Abdelrahman Ibrahim Mohamed</td>\n",
       "      <td>2430493</td>\n",
       "      <td>25.0</td>\n",
       "    </tr>\n",
       "    <tr>\n",
       "      <th>9</th>\n",
       "      <td>3</td>\n",
       "      <td>Ahmed Emad Mohamed Reda</td>\n",
       "      <td>2430180</td>\n",
       "      <td>25.0</td>\n",
       "    </tr>\n",
       "    <tr>\n",
       "      <th>10</th>\n",
       "      <td>3</td>\n",
       "      <td>Amr Ahmed Abdelzaher</td>\n",
       "      <td>2430074</td>\n",
       "      <td>24.0</td>\n",
       "    </tr>\n",
       "    <tr>\n",
       "      <th>11</th>\n",
       "      <td>3</td>\n",
       "      <td>Amr Yasser Salah El-Din</td>\n",
       "      <td>2430380</td>\n",
       "      <td>25.0</td>\n",
       "    </tr>\n",
       "  </tbody>\n",
       "</table>\n",
       "</div>"
      ],
      "text/plain": [
       "    #                 Team Members       ID  Grade\n",
       "8   3  Abdelrahman Ibrahim Mohamed  2430493   25.0\n",
       "9   3      Ahmed Emad Mohamed Reda  2430180   25.0\n",
       "10  3         Amr Ahmed Abdelzaher  2430074   24.0\n",
       "11  3      Amr Yasser Salah El-Din  2430380   25.0"
      ]
     },
     "metadata": {},
     "output_type": "display_data"
    }
   ],
   "source": [
    "data = pd.DataFrame(df)\n",
    "\n",
    "# Filter rows where Age is greater than 30\n",
    "team3_df = data[data['#'] ==3]\n",
    "display(team3_df)"
   ]
  },
  {
   "cell_type": "code",
   "execution_count": 62,
   "id": "53741ec9-1226-4ff5-ace0-8855af379ba8",
   "metadata": {},
   "outputs": [
    {
     "name": "stdout",
     "output_type": "stream",
     "text": [
      "Grade                              25.0\n",
      "Team Members    Amr Yasser Salah El-Din\n",
      "ID                              2430493\n",
      "dtype: object\n"
     ]
    }
   ],
   "source": [
    "max3 = team3_df[[\"Grade\",\"Team Members\",\"ID\"]].max()\n",
    "print(max3)"
   ]
  },
  {
   "cell_type": "code",
   "execution_count": 29,
   "id": "4dbc11cb-9a49-4010-8c9f-6a7498c99fae",
   "metadata": {},
   "outputs": [
    {
     "name": "stdout",
     "output_type": "stream",
     "text": [
      "24.75\n"
     ]
    }
   ],
   "source": [
    "average3 = team3_df[\"Grade\"].mean()\n",
    "print(average3)"
   ]
  },
  {
   "cell_type": "code",
   "execution_count": 56,
   "id": "9ade51a8-a108-4594-a0d9-f09bb0119ff4",
   "metadata": {},
   "outputs": [
    {
     "name": "stdout",
     "output_type": "stream",
     "text": [
      "    #                 Team Members       ID  Grade\n",
      "10  3         Amr Ahmed Abdelzaher  2430074   24.0\n",
      "8   3  Abdelrahman Ibrahim Mohamed  2430493   25.0\n",
      "9   3      Ahmed Emad Mohamed Reda  2430180   25.0\n",
      "11  3      Amr Yasser Salah El-Din  2430380   25.0\n"
     ]
    }
   ],
   "source": [
    "sorted_team3 = team3_df.sort_values(by='Grade')\n",
    "print(sorted_team3)"
   ]
  },
  {
   "cell_type": "code",
   "execution_count": 17,
   "id": "091fea06-e518-4fc6-a9ea-82fbc76277bc",
   "metadata": {},
   "outputs": [
    {
     "data": {
      "text/html": [
       "<div>\n",
       "<style scoped>\n",
       "    .dataframe tbody tr th:only-of-type {\n",
       "        vertical-align: middle;\n",
       "    }\n",
       "\n",
       "    .dataframe tbody tr th {\n",
       "        vertical-align: top;\n",
       "    }\n",
       "\n",
       "    .dataframe thead th {\n",
       "        text-align: right;\n",
       "    }\n",
       "</style>\n",
       "<table border=\"1\" class=\"dataframe\">\n",
       "  <thead>\n",
       "    <tr style=\"text-align: right;\">\n",
       "      <th></th>\n",
       "      <th>#</th>\n",
       "      <th>Team Members</th>\n",
       "      <th>ID</th>\n",
       "      <th>Grade</th>\n",
       "    </tr>\n",
       "  </thead>\n",
       "  <tbody>\n",
       "    <tr>\n",
       "      <th>12</th>\n",
       "      <td>4</td>\n",
       "      <td>Bahga Mohammed</td>\n",
       "      <td>2430498</td>\n",
       "      <td>15.0</td>\n",
       "    </tr>\n",
       "    <tr>\n",
       "      <th>13</th>\n",
       "      <td>4</td>\n",
       "      <td>Anas Samy Alsirafy</td>\n",
       "      <td>2430358</td>\n",
       "      <td>15.0</td>\n",
       "    </tr>\n",
       "    <tr>\n",
       "      <th>14</th>\n",
       "      <td>4</td>\n",
       "      <td>Mohammed Abd El Twab Abd El Fatah</td>\n",
       "      <td>4210215</td>\n",
       "      <td>15.0</td>\n",
       "    </tr>\n",
       "    <tr>\n",
       "      <th>15</th>\n",
       "      <td>4</td>\n",
       "      <td>Nada Hesham Anwer</td>\n",
       "      <td>2430185</td>\n",
       "      <td>15.0</td>\n",
       "    </tr>\n",
       "  </tbody>\n",
       "</table>\n",
       "</div>"
      ],
      "text/plain": [
       "    #                       Team Members       ID  Grade\n",
       "12  4                     Bahga Mohammed  2430498   15.0\n",
       "13  4                 Anas Samy Alsirafy  2430358   15.0\n",
       "14  4  Mohammed Abd El Twab Abd El Fatah  4210215   15.0\n",
       "15  4                  Nada Hesham Anwer  2430185   15.0"
      ]
     },
     "metadata": {},
     "output_type": "display_data"
    }
   ],
   "source": [
    "data = pd.DataFrame(df)\n",
    "\n",
    "# Filter rows where Age is greater than 30\n",
    "team4_df = data[data['#'] ==4]\n",
    "display(team4_df)"
   ]
  },
  {
   "cell_type": "code",
   "execution_count": 30,
   "id": "32c9906b-7112-4a38-8263-e00620e573a9",
   "metadata": {},
   "outputs": [
    {
     "name": "stdout",
     "output_type": "stream",
     "text": [
      "15.0\n"
     ]
    }
   ],
   "source": [
    "average4 = team4_df[\"Grade\"].mean()\n",
    "print(average4)"
   ]
  },
  {
   "cell_type": "code",
   "execution_count": 63,
   "id": "e4e9573e-7e2a-47b7-818f-bfec485b8ae5",
   "metadata": {},
   "outputs": [
    {
     "name": "stdout",
     "output_type": "stream",
     "text": [
      "Grade                        15.0\n",
      "Team Members    Nada Hesham Anwer\n",
      "ID                        4210215\n",
      "dtype: object\n"
     ]
    }
   ],
   "source": [
    "max4 = team4_df[[\"Grade\",\"Team Members\",\"ID\"]].max()\n",
    "print(max4)"
   ]
  },
  {
   "cell_type": "code",
   "execution_count": 55,
   "id": "dba0210d-75f6-4aee-992d-336c632b5226",
   "metadata": {},
   "outputs": [
    {
     "name": "stdout",
     "output_type": "stream",
     "text": [
      "    #                       Team Members       ID  Grade\n",
      "12  4                     Bahga Mohammed  2430498   15.0\n",
      "13  4                 Anas Samy Alsirafy  2430358   15.0\n",
      "14  4  Mohammed Abd El Twab Abd El Fatah  4210215   15.0\n",
      "15  4                  Nada Hesham Anwer  2430185   15.0\n"
     ]
    }
   ],
   "source": [
    "sorted_team4 = team4_df.sort_values(by='Grade')\n",
    "print(sorted_team4)"
   ]
  },
  {
   "cell_type": "code",
   "execution_count": 18,
   "id": "0281fb7d-aaa3-4171-a9c3-75bf3f2e6f5c",
   "metadata": {},
   "outputs": [
    {
     "data": {
      "text/html": [
       "<div>\n",
       "<style scoped>\n",
       "    .dataframe tbody tr th:only-of-type {\n",
       "        vertical-align: middle;\n",
       "    }\n",
       "\n",
       "    .dataframe tbody tr th {\n",
       "        vertical-align: top;\n",
       "    }\n",
       "\n",
       "    .dataframe thead th {\n",
       "        text-align: right;\n",
       "    }\n",
       "</style>\n",
       "<table border=\"1\" class=\"dataframe\">\n",
       "  <thead>\n",
       "    <tr style=\"text-align: right;\">\n",
       "      <th></th>\n",
       "      <th>#</th>\n",
       "      <th>Team Members</th>\n",
       "      <th>ID</th>\n",
       "      <th>Grade</th>\n",
       "    </tr>\n",
       "  </thead>\n",
       "  <tbody>\n",
       "    <tr>\n",
       "      <th>16</th>\n",
       "      <td>5</td>\n",
       "      <td>Yomna Osama Hussein</td>\n",
       "      <td>2430203</td>\n",
       "      <td>26.0</td>\n",
       "    </tr>\n",
       "    <tr>\n",
       "      <th>17</th>\n",
       "      <td>5</td>\n",
       "      <td>Mostafa Osama Abdelzaher</td>\n",
       "      <td>2430173</td>\n",
       "      <td>26.0</td>\n",
       "    </tr>\n",
       "    <tr>\n",
       "      <th>18</th>\n",
       "      <td>5</td>\n",
       "      <td>Omar Mohamed Ahmed Amin</td>\n",
       "      <td>2430204</td>\n",
       "      <td>26.0</td>\n",
       "    </tr>\n",
       "    <tr>\n",
       "      <th>19</th>\n",
       "      <td>5</td>\n",
       "      <td>Youssef Mohamed Mahmoud Shaaban</td>\n",
       "      <td>2430202</td>\n",
       "      <td>26.0</td>\n",
       "    </tr>\n",
       "  </tbody>\n",
       "</table>\n",
       "</div>"
      ],
      "text/plain": [
       "    #                     Team Members       ID  Grade\n",
       "16  5              Yomna Osama Hussein  2430203   26.0\n",
       "17  5         Mostafa Osama Abdelzaher  2430173   26.0\n",
       "18  5          Omar Mohamed Ahmed Amin  2430204   26.0\n",
       "19  5  Youssef Mohamed Mahmoud Shaaban  2430202   26.0"
      ]
     },
     "metadata": {},
     "output_type": "display_data"
    }
   ],
   "source": [
    "data = pd.DataFrame(df)\n",
    "\n",
    "# Filter rows where Age is greater than 30\n",
    "team5_df = data[data['#'] ==5]\n",
    "display(team5_df)"
   ]
  },
  {
   "cell_type": "code",
   "execution_count": 31,
   "id": "303148b2-c68a-4bf5-af07-8f39a9dcd3f6",
   "metadata": {},
   "outputs": [
    {
     "name": "stdout",
     "output_type": "stream",
     "text": [
      "26.0\n"
     ]
    }
   ],
   "source": [
    "average5 = team5_df[\"Grade\"].mean()\n",
    "print(average5)"
   ]
  },
  {
   "cell_type": "code",
   "execution_count": 64,
   "id": "c3892dcc-9ca4-40b9-9e73-5057a6db5b3b",
   "metadata": {},
   "outputs": [
    {
     "name": "stdout",
     "output_type": "stream",
     "text": [
      "Grade                                      26.0\n",
      "Team Members    Youssef Mohamed Mahmoud Shaaban\n",
      "ID                                      2430204\n",
      "dtype: object\n"
     ]
    }
   ],
   "source": [
    "max5 = team5_df[[\"Grade\",\"Team Members\",\"ID\"]].max()\n",
    "print(max5)"
   ]
  },
  {
   "cell_type": "code",
   "execution_count": 54,
   "id": "be850896-f484-4a6f-b62b-3d359be4d31b",
   "metadata": {},
   "outputs": [
    {
     "name": "stdout",
     "output_type": "stream",
     "text": [
      "    #                     Team Members       ID  Grade\n",
      "16  5              Yomna Osama Hussein  2430203   26.0\n",
      "17  5         Mostafa Osama Abdelzaher  2430173   26.0\n",
      "18  5          Omar Mohamed Ahmed Amin  2430204   26.0\n",
      "19  5  Youssef Mohamed Mahmoud Shaaban  2430202   26.0\n"
     ]
    }
   ],
   "source": [
    "sorted_team5 = team5_df.sort_values(by='Grade')\n",
    "print(sorted_team5)"
   ]
  },
  {
   "cell_type": "code",
   "execution_count": 19,
   "id": "4cdd7fe9-6ae9-4908-b8ae-ae9fdb4c51a7",
   "metadata": {},
   "outputs": [
    {
     "data": {
      "text/html": [
       "<div>\n",
       "<style scoped>\n",
       "    .dataframe tbody tr th:only-of-type {\n",
       "        vertical-align: middle;\n",
       "    }\n",
       "\n",
       "    .dataframe tbody tr th {\n",
       "        vertical-align: top;\n",
       "    }\n",
       "\n",
       "    .dataframe thead th {\n",
       "        text-align: right;\n",
       "    }\n",
       "</style>\n",
       "<table border=\"1\" class=\"dataframe\">\n",
       "  <thead>\n",
       "    <tr style=\"text-align: right;\">\n",
       "      <th></th>\n",
       "      <th>#</th>\n",
       "      <th>Team Members</th>\n",
       "      <th>ID</th>\n",
       "      <th>Grade</th>\n",
       "    </tr>\n",
       "  </thead>\n",
       "  <tbody>\n",
       "    <tr>\n",
       "      <th>20</th>\n",
       "      <td>6</td>\n",
       "      <td>Habiba Hassan</td>\n",
       "      <td>2430369</td>\n",
       "      <td>22.0</td>\n",
       "    </tr>\n",
       "    <tr>\n",
       "      <th>21</th>\n",
       "      <td>6</td>\n",
       "      <td>Mahinour Alaa</td>\n",
       "      <td>2430339</td>\n",
       "      <td>21.0</td>\n",
       "    </tr>\n",
       "    <tr>\n",
       "      <th>22</th>\n",
       "      <td>6</td>\n",
       "      <td>Rofayda Bassem</td>\n",
       "      <td>2430220</td>\n",
       "      <td>22.0</td>\n",
       "    </tr>\n",
       "    <tr>\n",
       "      <th>23</th>\n",
       "      <td>6</td>\n",
       "      <td>Youssef Khaled</td>\n",
       "      <td>2430324</td>\n",
       "      <td>22.0</td>\n",
       "    </tr>\n",
       "    <tr>\n",
       "      <th>24</th>\n",
       "      <td>6</td>\n",
       "      <td>Omar Sherif Galal</td>\n",
       "      <td>2430039</td>\n",
       "      <td>22.0</td>\n",
       "    </tr>\n",
       "  </tbody>\n",
       "</table>\n",
       "</div>"
      ],
      "text/plain": [
       "    #       Team Members       ID  Grade\n",
       "20  6      Habiba Hassan  2430369   22.0\n",
       "21  6      Mahinour Alaa  2430339   21.0\n",
       "22  6     Rofayda Bassem  2430220   22.0\n",
       "23  6     Youssef Khaled  2430324   22.0\n",
       "24  6  Omar Sherif Galal  2430039   22.0"
      ]
     },
     "metadata": {},
     "output_type": "display_data"
    }
   ],
   "source": [
    "data = pd.DataFrame(df)\n",
    "\n",
    "# Filter rows where Age is greater than 30\n",
    "team6_df = data[data['#'] ==6]\n",
    "display(team6_df)"
   ]
  },
  {
   "cell_type": "code",
   "execution_count": 32,
   "id": "f417aee5-e25b-44fc-9e45-d2bf02d35a1a",
   "metadata": {},
   "outputs": [
    {
     "name": "stdout",
     "output_type": "stream",
     "text": [
      "21.8\n"
     ]
    }
   ],
   "source": [
    "average6 = team6_df[\"Grade\"].mean()\n",
    "print(average6)"
   ]
  },
  {
   "cell_type": "code",
   "execution_count": 65,
   "id": "a0181483-5a28-4347-bc8a-a6380d52f9bc",
   "metadata": {},
   "outputs": [
    {
     "name": "stdout",
     "output_type": "stream",
     "text": [
      "Grade                     22.0\n",
      "Team Members    Youssef Khaled\n",
      "ID                     2430369\n",
      "dtype: object\n"
     ]
    }
   ],
   "source": [
    "max6 = team6_df[[\"Grade\",\"Team Members\",\"ID\"]].max()\n",
    "print(max6)"
   ]
  },
  {
   "cell_type": "code",
   "execution_count": 53,
   "id": "cb1692e7-8aa4-40cf-a91f-f1e988ab2292",
   "metadata": {},
   "outputs": [
    {
     "name": "stdout",
     "output_type": "stream",
     "text": [
      "    #       Team Members       ID  Grade\n",
      "21  6      Mahinour Alaa  2430339   21.0\n",
      "20  6      Habiba Hassan  2430369   22.0\n",
      "22  6     Rofayda Bassem  2430220   22.0\n",
      "23  6     Youssef Khaled  2430324   22.0\n",
      "24  6  Omar Sherif Galal  2430039   22.0\n"
     ]
    }
   ],
   "source": [
    "sorted_team6 = team6_df.sort_values(by='Grade')\n",
    "print(sorted_team6)"
   ]
  },
  {
   "cell_type": "code",
   "execution_count": 20,
   "id": "096f5e42-7468-4d48-a097-f60beef81b2a",
   "metadata": {},
   "outputs": [
    {
     "data": {
      "text/html": [
       "<div>\n",
       "<style scoped>\n",
       "    .dataframe tbody tr th:only-of-type {\n",
       "        vertical-align: middle;\n",
       "    }\n",
       "\n",
       "    .dataframe tbody tr th {\n",
       "        vertical-align: top;\n",
       "    }\n",
       "\n",
       "    .dataframe thead th {\n",
       "        text-align: right;\n",
       "    }\n",
       "</style>\n",
       "<table border=\"1\" class=\"dataframe\">\n",
       "  <thead>\n",
       "    <tr style=\"text-align: right;\">\n",
       "      <th></th>\n",
       "      <th>#</th>\n",
       "      <th>Team Members</th>\n",
       "      <th>ID</th>\n",
       "      <th>Grade</th>\n",
       "    </tr>\n",
       "  </thead>\n",
       "  <tbody>\n",
       "    <tr>\n",
       "      <th>25</th>\n",
       "      <td>7</td>\n",
       "      <td>Ahmed Youssef Amer</td>\n",
       "      <td>4210394</td>\n",
       "      <td>21.0</td>\n",
       "    </tr>\n",
       "    <tr>\n",
       "      <th>26</th>\n",
       "      <td>7</td>\n",
       "      <td>Ahmed Alaaeldin Ibrahim</td>\n",
       "      <td>4210016</td>\n",
       "      <td>21.0</td>\n",
       "    </tr>\n",
       "    <tr>\n",
       "      <th>27</th>\n",
       "      <td>7</td>\n",
       "      <td>omar Saeed Ali</td>\n",
       "      <td>4210038</td>\n",
       "      <td>21.0</td>\n",
       "    </tr>\n",
       "    <tr>\n",
       "      <th>28</th>\n",
       "      <td>7</td>\n",
       "      <td>bassant reda mohamed</td>\n",
       "      <td>2430056</td>\n",
       "      <td>21.0</td>\n",
       "    </tr>\n",
       "  </tbody>\n",
       "</table>\n",
       "</div>"
      ],
      "text/plain": [
       "    #             Team Members       ID  Grade\n",
       "25  7       Ahmed Youssef Amer  4210394   21.0\n",
       "26  7  Ahmed Alaaeldin Ibrahim  4210016   21.0\n",
       "27  7           omar Saeed Ali  4210038   21.0\n",
       "28  7     bassant reda mohamed  2430056   21.0"
      ]
     },
     "metadata": {},
     "output_type": "display_data"
    }
   ],
   "source": [
    "data = pd.DataFrame(df)\n",
    "\n",
    "# Filter rows where Age is greater than 30\n",
    "team7_df = data[data['#'] ==7]\n",
    "display(team7_df)"
   ]
  },
  {
   "cell_type": "code",
   "execution_count": 33,
   "id": "7c11aedb-91c5-479f-9152-4f34b510e709",
   "metadata": {},
   "outputs": [
    {
     "name": "stdout",
     "output_type": "stream",
     "text": [
      "21.0\n"
     ]
    }
   ],
   "source": [
    "average7 = team7_df[\"Grade\"].mean()\n",
    "print(average7)"
   ]
  },
  {
   "cell_type": "code",
   "execution_count": 66,
   "id": "8b759867-c327-47d3-a44c-5984a0d604a5",
   "metadata": {},
   "outputs": [
    {
     "name": "stdout",
     "output_type": "stream",
     "text": [
      "Grade                     21.0\n",
      "Team Members    omar Saeed Ali\n",
      "ID                     4210394\n",
      "dtype: object\n"
     ]
    }
   ],
   "source": [
    "max7 = team7_df[[\"Grade\",\"Team Members\",\"ID\"]].max()\n",
    "print(max7)"
   ]
  },
  {
   "cell_type": "code",
   "execution_count": 52,
   "id": "d76e7fbf-9e2f-4934-b523-e7e7d24372b5",
   "metadata": {},
   "outputs": [
    {
     "name": "stdout",
     "output_type": "stream",
     "text": [
      "    #             Team Members       ID  Grade\n",
      "25  7       Ahmed Youssef Amer  4210394   21.0\n",
      "26  7  Ahmed Alaaeldin Ibrahim  4210016   21.0\n",
      "27  7           omar Saeed Ali  4210038   21.0\n",
      "28  7     bassant reda mohamed  2430056   21.0\n"
     ]
    }
   ],
   "source": [
    "sorted_team7 = team7_df.sort_values(by='Grade')\n",
    "print(sorted_team7)"
   ]
  },
  {
   "cell_type": "code",
   "execution_count": 21,
   "id": "a014572a-11db-42fa-a6e6-847c58dc1f06",
   "metadata": {},
   "outputs": [
    {
     "data": {
      "text/html": [
       "<div>\n",
       "<style scoped>\n",
       "    .dataframe tbody tr th:only-of-type {\n",
       "        vertical-align: middle;\n",
       "    }\n",
       "\n",
       "    .dataframe tbody tr th {\n",
       "        vertical-align: top;\n",
       "    }\n",
       "\n",
       "    .dataframe thead th {\n",
       "        text-align: right;\n",
       "    }\n",
       "</style>\n",
       "<table border=\"1\" class=\"dataframe\">\n",
       "  <thead>\n",
       "    <tr style=\"text-align: right;\">\n",
       "      <th></th>\n",
       "      <th>#</th>\n",
       "      <th>Team Members</th>\n",
       "      <th>ID</th>\n",
       "      <th>Grade</th>\n",
       "    </tr>\n",
       "  </thead>\n",
       "  <tbody>\n",
       "    <tr>\n",
       "      <th>29</th>\n",
       "      <td>8</td>\n",
       "      <td>Hla Hany</td>\n",
       "      <td>2430344</td>\n",
       "      <td>17.0</td>\n",
       "    </tr>\n",
       "    <tr>\n",
       "      <th>30</th>\n",
       "      <td>8</td>\n",
       "      <td>Omar Alaa</td>\n",
       "      <td>2430377</td>\n",
       "      <td>16.0</td>\n",
       "    </tr>\n",
       "    <tr>\n",
       "      <th>31</th>\n",
       "      <td>8</td>\n",
       "      <td>Omar Nashaat</td>\n",
       "      <td>2430430</td>\n",
       "      <td>17.0</td>\n",
       "    </tr>\n",
       "    <tr>\n",
       "      <th>32</th>\n",
       "      <td>8</td>\n",
       "      <td>Rana Gamal</td>\n",
       "      <td>2430449</td>\n",
       "      <td>15.0</td>\n",
       "    </tr>\n",
       "  </tbody>\n",
       "</table>\n",
       "</div>"
      ],
      "text/plain": [
       "    #  Team Members       ID  Grade\n",
       "29  8      Hla Hany  2430344   17.0\n",
       "30  8     Omar Alaa  2430377   16.0\n",
       "31  8  Omar Nashaat  2430430   17.0\n",
       "32  8    Rana Gamal  2430449   15.0"
      ]
     },
     "metadata": {},
     "output_type": "display_data"
    }
   ],
   "source": [
    "data = pd.DataFrame(df)\n",
    "\n",
    "# Filter rows where Age is greater than 30\n",
    "team8_df = data[data['#'] ==8]\n",
    "display(team8_df)"
   ]
  },
  {
   "cell_type": "code",
   "execution_count": 34,
   "id": "0f9cec24-a801-4a3f-a26a-308b0b9bbf33",
   "metadata": {},
   "outputs": [
    {
     "name": "stdout",
     "output_type": "stream",
     "text": [
      "16.25\n"
     ]
    }
   ],
   "source": [
    "average8 = team8_df[\"Grade\"].mean()\n",
    "print(average8)"
   ]
  },
  {
   "cell_type": "code",
   "execution_count": 67,
   "id": "a38f9b48-8a91-465a-98f8-1ae8a560350c",
   "metadata": {},
   "outputs": [
    {
     "name": "stdout",
     "output_type": "stream",
     "text": [
      "Grade                 17.0\n",
      "Team Members    Rana Gamal\n",
      "ID                 2430449\n",
      "dtype: object\n"
     ]
    }
   ],
   "source": [
    "max8 = team8_df[[\"Grade\",\"Team Members\",\"ID\"]].max()\n",
    "print(max8)"
   ]
  },
  {
   "cell_type": "code",
   "execution_count": 51,
   "id": "14e9b76e-df4c-441f-932f-d80e69d25e2e",
   "metadata": {},
   "outputs": [
    {
     "name": "stdout",
     "output_type": "stream",
     "text": [
      "    #  Team Members       ID  Grade\n",
      "32  8    Rana Gamal  2430449   15.0\n",
      "30  8     Omar Alaa  2430377   16.0\n",
      "29  8      Hla Hany  2430344   17.0\n",
      "31  8  Omar Nashaat  2430430   17.0\n"
     ]
    }
   ],
   "source": [
    "sorted_team8 = team8_df.sort_values(by='Grade')\n",
    "print(sorted_team8)"
   ]
  },
  {
   "cell_type": "code",
   "execution_count": 22,
   "id": "f5978c04-e762-428e-83b5-620d530bd46e",
   "metadata": {},
   "outputs": [
    {
     "data": {
      "text/html": [
       "<div>\n",
       "<style scoped>\n",
       "    .dataframe tbody tr th:only-of-type {\n",
       "        vertical-align: middle;\n",
       "    }\n",
       "\n",
       "    .dataframe tbody tr th {\n",
       "        vertical-align: top;\n",
       "    }\n",
       "\n",
       "    .dataframe thead th {\n",
       "        text-align: right;\n",
       "    }\n",
       "</style>\n",
       "<table border=\"1\" class=\"dataframe\">\n",
       "  <thead>\n",
       "    <tr style=\"text-align: right;\">\n",
       "      <th></th>\n",
       "      <th>#</th>\n",
       "      <th>Team Members</th>\n",
       "      <th>ID</th>\n",
       "      <th>Grade</th>\n",
       "    </tr>\n",
       "  </thead>\n",
       "  <tbody>\n",
       "    <tr>\n",
       "      <th>33</th>\n",
       "      <td>9</td>\n",
       "      <td>Ahmed Maher</td>\n",
       "      <td>2430290</td>\n",
       "      <td>21.0</td>\n",
       "    </tr>\n",
       "    <tr>\n",
       "      <th>34</th>\n",
       "      <td>9</td>\n",
       "      <td>Khalid Mamdouh</td>\n",
       "      <td>2430321</td>\n",
       "      <td>21.0</td>\n",
       "    </tr>\n",
       "    <tr>\n",
       "      <th>35</th>\n",
       "      <td>9</td>\n",
       "      <td>Marwan Ahmed Mustafa</td>\n",
       "      <td>2430281</td>\n",
       "      <td>22.0</td>\n",
       "    </tr>\n",
       "    <tr>\n",
       "      <th>36</th>\n",
       "      <td>9</td>\n",
       "      <td>Seif El-Baghdady</td>\n",
       "      <td>2430243</td>\n",
       "      <td>22.0</td>\n",
       "    </tr>\n",
       "  </tbody>\n",
       "</table>\n",
       "</div>"
      ],
      "text/plain": [
       "    #          Team Members       ID  Grade\n",
       "33  9           Ahmed Maher  2430290   21.0\n",
       "34  9        Khalid Mamdouh  2430321   21.0\n",
       "35  9  Marwan Ahmed Mustafa  2430281   22.0\n",
       "36  9      Seif El-Baghdady  2430243   22.0"
      ]
     },
     "metadata": {},
     "output_type": "display_data"
    }
   ],
   "source": [
    "data = pd.DataFrame(df)\n",
    "\n",
    "# Filter rows where Age is greater than 30\n",
    "team9_df = data[data['#'] ==9]\n",
    "display(team9_df)"
   ]
  },
  {
   "cell_type": "code",
   "execution_count": 69,
   "id": "ab401b86-d67f-4c3b-b8bc-76af407279fc",
   "metadata": {},
   "outputs": [
    {
     "name": "stdout",
     "output_type": "stream",
     "text": [
      "21.5\n"
     ]
    }
   ],
   "source": [
    "average9 = team9_df[\"Grade\"].mean()\n",
    "print(average9)"
   ]
  },
  {
   "cell_type": "code",
   "execution_count": 70,
   "id": "88364afc-6391-4961-90ff-c00589403586",
   "metadata": {},
   "outputs": [
    {
     "name": "stdout",
     "output_type": "stream",
     "text": [
      "26.0\n"
     ]
    }
   ],
   "source": [
    "max9 = team9_df[[\"Grade\",\"Team Members\",\"ID\"]].max()\n",
    "print(max)"
   ]
  },
  {
   "cell_type": "code",
   "execution_count": 50,
   "id": "cd9ec6bb-5e2c-4553-a110-bd7d695e0f0b",
   "metadata": {},
   "outputs": [
    {
     "name": "stdout",
     "output_type": "stream",
     "text": [
      "    #          Team Members       ID  Grade\n",
      "33  9           Ahmed Maher  2430290   21.0\n",
      "34  9        Khalid Mamdouh  2430321   21.0\n",
      "35  9  Marwan Ahmed Mustafa  2430281   22.0\n",
      "36  9      Seif El-Baghdady  2430243   22.0\n"
     ]
    }
   ],
   "source": [
    "sorted_team9 = team9_df.sort_values(by='Grade')\n",
    "print(sorted_team9)"
   ]
  },
  {
   "cell_type": "code",
   "execution_count": 23,
   "id": "4eeffa8b-8350-4119-bc5f-f1a253535e5f",
   "metadata": {},
   "outputs": [
    {
     "data": {
      "text/html": [
       "<div>\n",
       "<style scoped>\n",
       "    .dataframe tbody tr th:only-of-type {\n",
       "        vertical-align: middle;\n",
       "    }\n",
       "\n",
       "    .dataframe tbody tr th {\n",
       "        vertical-align: top;\n",
       "    }\n",
       "\n",
       "    .dataframe thead th {\n",
       "        text-align: right;\n",
       "    }\n",
       "</style>\n",
       "<table border=\"1\" class=\"dataframe\">\n",
       "  <thead>\n",
       "    <tr style=\"text-align: right;\">\n",
       "      <th></th>\n",
       "      <th>#</th>\n",
       "      <th>Team Members</th>\n",
       "      <th>ID</th>\n",
       "      <th>Grade</th>\n",
       "    </tr>\n",
       "  </thead>\n",
       "  <tbody>\n",
       "    <tr>\n",
       "      <th>37</th>\n",
       "      <td>10</td>\n",
       "      <td>Daniel Adel Aziz</td>\n",
       "      <td>4210024</td>\n",
       "      <td>19.0</td>\n",
       "    </tr>\n",
       "    <tr>\n",
       "      <th>38</th>\n",
       "      <td>10</td>\n",
       "      <td>David George Adel</td>\n",
       "      <td>4210849</td>\n",
       "      <td>15.0</td>\n",
       "    </tr>\n",
       "    <tr>\n",
       "      <th>39</th>\n",
       "      <td>10</td>\n",
       "      <td>Nardeen Hany Milad</td>\n",
       "      <td>4210483</td>\n",
       "      <td>19.0</td>\n",
       "    </tr>\n",
       "    <tr>\n",
       "      <th>40</th>\n",
       "      <td>10</td>\n",
       "      <td>Peter Ashraf Moussa</td>\n",
       "      <td>4212501</td>\n",
       "      <td>19.0</td>\n",
       "    </tr>\n",
       "  </tbody>\n",
       "</table>\n",
       "</div>"
      ],
      "text/plain": [
       "     #         Team Members       ID  Grade\n",
       "37  10     Daniel Adel Aziz  4210024   19.0\n",
       "38  10    David George Adel  4210849   15.0\n",
       "39  10   Nardeen Hany Milad  4210483   19.0\n",
       "40  10  Peter Ashraf Moussa  4212501   19.0"
      ]
     },
     "metadata": {},
     "output_type": "display_data"
    }
   ],
   "source": [
    "data = pd.DataFrame(df)\n",
    "\n",
    "# Filter rows where Age is greater than 30\n",
    "team10_df = data[data['#'] ==10]\n",
    "display(team10_df)"
   ]
  },
  {
   "cell_type": "code",
   "execution_count": 36,
   "id": "1b0e3f06-9602-421a-9cca-c11f44522733",
   "metadata": {},
   "outputs": [
    {
     "name": "stdout",
     "output_type": "stream",
     "text": [
      "18.0\n"
     ]
    }
   ],
   "source": [
    "average10 = team10_df[\"Grade\"].mean()\n",
    "print(average10)"
   ]
  },
  {
   "cell_type": "code",
   "execution_count": 71,
   "id": "a9898f69-6c99-410a-aa44-6080ac3807df",
   "metadata": {},
   "outputs": [
    {
     "name": "stdout",
     "output_type": "stream",
     "text": [
      "Grade                          19.0\n",
      "Team Members    Peter Ashraf Moussa\n",
      "ID                          4212501\n",
      "dtype: object\n"
     ]
    }
   ],
   "source": [
    "max10 = team10_df[[\"Grade\",\"Team Members\",\"ID\"]].max()\n",
    "print(max10)"
   ]
  },
  {
   "cell_type": "code",
   "execution_count": 48,
   "id": "9a649433-c4e6-4f90-8f31-d035e9d4f539",
   "metadata": {},
   "outputs": [
    {
     "name": "stdout",
     "output_type": "stream",
     "text": [
      "15.0\n"
     ]
    }
   ],
   "source": [
    "min10 = team10_df[\"Grade\"].min()\n",
    "print(min10)"
   ]
  },
  {
   "cell_type": "code",
   "execution_count": 49,
   "id": "65f8dc6b-344e-4530-bfd1-0f5efcd9e229",
   "metadata": {},
   "outputs": [
    {
     "name": "stdout",
     "output_type": "stream",
     "text": [
      "     #         Team Members       ID  Grade\n",
      "38  10    David George Adel  4210849   15.0\n",
      "37  10     Daniel Adel Aziz  4210024   19.0\n",
      "39  10   Nardeen Hany Milad  4210483   19.0\n",
      "40  10  Peter Ashraf Moussa  4212501   19.0\n"
     ]
    }
   ],
   "source": [
    "sorted_team10 = team10_df.sort_values(by='Grade')\n",
    "print(sorted_team10)"
   ]
  },
  {
   "cell_type": "code",
   "execution_count": 72,
   "id": "40dffe67-eb5f-4b6f-8f50-b6488deb0782",
   "metadata": {},
   "outputs": [
    {
     "name": "stdout",
     "output_type": "stream",
     "text": [
      "Grade                     26.0\n",
      "Team Members    omar Saeed Ali\n",
      "ID                     4212512\n",
      "dtype: object\n"
     ]
    }
   ],
   "source": [
    "max =df[[\"Grade\",\"Team Members\",\"ID\"]].max()\n",
    "print(max)"
   ]
  },
  {
   "cell_type": "code",
   "execution_count": null,
   "id": "b07ec794-62dd-4470-baab-299305cee8fd",
   "metadata": {},
   "outputs": [],
   "source": []
  }
 ],
 "metadata": {
  "kernelspec": {
   "display_name": "Python 3 (ipykernel)",
   "language": "python",
   "name": "python3"
  },
  "language_info": {
   "codemirror_mode": {
    "name": "ipython",
    "version": 3
   },
   "file_extension": ".py",
   "mimetype": "text/x-python",
   "name": "python",
   "nbconvert_exporter": "python",
   "pygments_lexer": "ipython3",
   "version": "3.11.7"
  }
 },
 "nbformat": 4,
 "nbformat_minor": 5
}
