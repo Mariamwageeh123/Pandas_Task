{
 "cells": [
  {
   "cell_type": "code",
   "execution_count": 19,
   "id": "d1a80f5e-f2c8-49ca-955f-de82fe751ebf",
   "metadata": {},
   "outputs": [
    {
     "name": "stdout",
     "output_type": "stream",
     "text": [
      "character   e ---->equal 4\n",
      "character   c ---->equal 2\n",
      "character   i ---->equal 2\n",
      "['e', 'c', 'i']\n"
     ]
    }
   ],
   "source": [
    "s = \"geeks quiz practice Code\"\n",
    "res = []\n",
    "\n",
    "# Iterate over the unique elements in 's'\n",
    "for c in set(s):  # Use set to avoid repeated checks\n",
    "    if s.count(c) > 1 and c !=\" \":\n",
    "        # print(c)\n",
    "        print(\"character   \"+ c + \" ---->equal \" +str( s.count(c)))\n",
    "        res.append(c)\n",
    "\n",
    "print(res)"
   ]
  }
 ],
 "metadata": {
  "kernelspec": {
   "display_name": "Python 3 (ipykernel)",
   "language": "python",
   "name": "python3"
  },
  "language_info": {
   "codemirror_mode": {
    "name": "ipython",
    "version": 3
   },
   "file_extension": ".py",
   "mimetype": "text/x-python",
   "name": "python",
   "nbconvert_exporter": "python",
   "pygments_lexer": "ipython3",
   "version": "3.11.7"
  }
 },
 "nbformat": 4,
 "nbformat_minor": 5
}
